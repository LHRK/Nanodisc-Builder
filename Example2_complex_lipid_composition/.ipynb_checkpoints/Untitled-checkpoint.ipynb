{
 "cells": [
  {
   "cell_type": "code",
   "execution_count": 1,
   "metadata": {},
   "outputs": [],
   "source": [
    "import numpy as np\n",
    "import MDAnalysis as md\n",
    "import argparse\n",
    "import os\n"
   ]
  },
  {
   "cell_type": "code",
   "execution_count": 5,
   "metadata": {},
   "outputs": [],
   "source": [
    "def auto_identify (fasta, H='H5'):\n",
    "        Tandems    = {\"H1\":\"LKLLDNWDSVTSTFSKLREQLG\",\n",
    "                      \"H2\":\"PVTQEFWDNLEKETEGLRQEMS\",\n",
    "                      \"H3\":\"KDLEEVKAKVQ\",\n",
    "                      \"H4\":\"PYLDDFQKKWQEEMELYRQKVE\",\n",
    "                      \"H5\":\"PLRAELQEGARQKLHELQEKLS\",\n",
    "                      \"H6\":\"PLGEEMRDRARAHVDALRTHLA\",\n",
    "                      \"H7\":\"PYSDELRQRLAARLEALKENGG\",\n",
    "                      \"H8\":\"ARLAEYHAKATEHLSTLSEKAK\",\n",
    "                      \"H9\":\"PALEDLRQGLL\",\n",
    "                      \"H10\":\"PVLESFKVSFLSALEEYTKKLNTQ\",\n",
    "        }\n",
    "\n",
    "        Helix = Tandems[H]\n",
    "        fasta_in = open(fasta).readlines()[1:]\n",
    "        fasta_seq = \" \".join([i.strip('\\n') for i in fasta_in])\n",
    "        begin_seq = fasta_seq.find(Helix)\n",
    "        end_seq = begin_seq + len(Helix)\n",
    "        return begin_seq, end_seq\n"
   ]
  },
  {
   "cell_type": "code",
   "execution_count": 6,
   "metadata": {},
   "outputs": [],
   "source": [
    "fasta = '1D1.fasta'"
   ]
  },
  {
   "cell_type": "code",
   "execution_count": 8,
   "metadata": {},
   "outputs": [],
   "source": [
    "r1,r2 = auto_identify(fasta)"
   ]
  },
  {
   "cell_type": "code",
   "execution_count": 9,
   "metadata": {},
   "outputs": [
    {
     "data": {
      "text/plain": [
       "66"
      ]
     },
     "execution_count": 9,
     "metadata": {},
     "output_type": "execute_result"
    }
   ],
   "source": [
    "r1"
   ]
  },
  {
   "cell_type": "code",
   "execution_count": 10,
   "metadata": {},
   "outputs": [
    {
     "data": {
      "text/plain": [
       "88"
      ]
     },
     "execution_count": 10,
     "metadata": {},
     "output_type": "execute_result"
    }
   ],
   "source": [
    "r2"
   ]
  },
  {
   "cell_type": "code",
   "execution_count": null,
   "metadata": {},
   "outputs": [],
   "source": []
  }
 ],
 "metadata": {
  "kernelspec": {
   "display_name": "Python 3",
   "language": "python",
   "name": "python3"
  },
  "language_info": {
   "codemirror_mode": {
    "name": "ipython",
    "version": 3
   },
   "file_extension": ".py",
   "mimetype": "text/x-python",
   "name": "python",
   "nbconvert_exporter": "python",
   "pygments_lexer": "ipython3",
   "version": "3.7.6"
  }
 },
 "nbformat": 4,
 "nbformat_minor": 4
}
